{
 "cells": [
  {
   "cell_type": "code",
   "execution_count": 3,
   "id": "912de2aa",
   "metadata": {},
   "outputs": [
    {
     "name": "stdout",
     "output_type": "stream",
     "text": [
      "Overview of dataframe : \n",
      "   1|24|M|technician|85711\n",
      "0       2|53|F|other|94043\n",
      "1      3|23|M|writer|32067\n",
      "2  4|24|M|technician|43537\n",
      "3       5|33|F|other|15213\n",
      "4   6|42|M|executive|98101\n",
      "Shape :  (942, 1)\n",
      "\n",
      "Dataframe after modifying the default parameter values for read_table: \n",
      "   user_id  age gender  occupation zip_code\n",
      "0        1   24      M  technician    85711\n",
      "1        2   53      F       other    94043\n",
      "2        3   23      M      writer    32067\n",
      "3        4   24      M  technician    43537\n",
      "4        5   33      F       other    15213\n"
     ]
    }
   ],
   "source": [
    " import pandas as pd\n",
    "orders = pd.read_table('http://bit.ly/movieusers')\n",
    "print(\"Overview of dataframe : \")\n",
    "print(orders.head())\n",
    "print(\"Shape : \",orders.shape)\n",
    "print()\n",
    "user_cols = ['user_id', 'age', 'gender', 'occupation', 'zip_code']\n",
    "users = pd.read_table('http://bit.ly/movieusers', sep='|', header=None,\n",
    "names=user_cols)\n",
    "print(\"Dataframe after modifying the default parameter values for read_table: \")\n",
    "print(users.head())"
   ]
  },
  {
   "cell_type": "code",
   "execution_count": 10,
   "id": "ac83e0ee",
   "metadata": {},
   "outputs": [
    {
     "name": "stdout",
     "output_type": "stream",
     "text": [
      "Overview of UFO data reports: \n",
      "                   City Colors Reported Shape Reported State             Time\n",
      "0                Ithaca             NaN       TRIANGLE    NY   6/1/1930 22:00\n",
      "1           Willingboro             NaN          OTHER    NJ  6/30/1930 20:00\n",
      "2               Holyoke             NaN           OVAL    CO  2/15/1931 14:00\n",
      "3               Abilene             NaN           DISK    KS   6/1/1931 13:00\n",
      "4  New York Worlds Fair             NaN          LIGHT    NY  4/18/1933 19:00\n",
      "\n",
      "Cityseries(sorted):\n",
      "1761     Abbeville\n",
      "17809     Aberdeen\n",
      "2297      Aberdeen\n",
      "9404      Aberdeen\n",
      "389       Aberdeen\n",
      "           ...    \n",
      "12441          NaN\n",
      "15767          NaN\n",
      "15812          NaN\n",
      "16054          NaN\n",
      "16608          NaN\n",
      "Name: City, Length: 18241, dtype: object\n",
      "\n",
      "After creating a new 'Location' Series : \n",
      "                   City Colors Reported Shape Reported State             Time  \\\n",
      "0                Ithaca             NaN       TRIANGLE    NY   6/1/1930 22:00   \n",
      "1           Willingboro             NaN          OTHER    NJ  6/30/1930 20:00   \n",
      "2               Holyoke             NaN           OVAL    CO  2/15/1931 14:00   \n",
      "3               Abilene             NaN           DISK    KS   6/1/1931 13:00   \n",
      "4  New York Worlds Fair             NaN          LIGHT    NY  4/18/1933 19:00   \n",
      "\n",
      "                   Location  \n",
      "0                Ithaca, NY  \n",
      "1           Willingboro, NJ  \n",
      "2               Holyoke, CO  \n",
      "3               Abilene, KS  \n",
      "4  New York Worlds Fair, NY  \n",
      "\n",
      "Calculate summary statistics : \n",
      "           City Colors Reported Shape Reported  State              Time  \\\n",
      "count     18215            2882          15597  18241             18241   \n",
      "unique     6475              27             27     52             16145   \n",
      "top     Seattle             RED          LIGHT     CA  11/16/1999 19:00   \n",
      "freq        187             780           2803   2529                27   \n",
      "\n",
      "           Location  \n",
      "count         18215  \n",
      "unique         8028  \n",
      "top     Seattle, WA  \n",
      "freq            187  \n",
      "\n",
      "Column names of ufo dataframe :  Index(['City', 'Colors Reported', 'Shape Reported', 'State', 'Time',\n",
      "       'Location'],\n",
      "      dtype='object')\n",
      "\n",
      "Column name of ufo dataframe after renaming two column names :  Index(['City', 'Colors Reported', 'Shape Reported', 'State', 'Time',\n",
      "       'Location'],\n",
      "      dtype='object')\n",
      "\n",
      "Column name of ufo dataframe after removing two columns(city,state) :  Index(['City', 'Colors Reported', 'Shape Reported', 'State', 'Time',\n",
      "       'Location'],\n",
      "      dtype='object')\n",
      "\n",
      "ufo dataframe after deleting first two rows: \n",
      "                   City Colors Reported Shape Reported State             Time  \\\n",
      "2               Holyoke             NaN           OVAL    CO  2/15/1931 14:00   \n",
      "3               Abilene             NaN           DISK    KS   6/1/1931 13:00   \n",
      "4  New York Worlds Fair             NaN          LIGHT    NY  4/18/1933 19:00   \n",
      "5           Valley City             NaN           DISK    ND  9/15/1934 15:30   \n",
      "6           Crater Lake             NaN         CIRCLE    CA   6/15/1935 0:00   \n",
      "\n",
      "                   Location  \n",
      "2               Holyoke, CO  \n",
      "3               Abilene, KS  \n",
      "4  New York Worlds Fair, NY  \n",
      "5           Valley City, ND  \n",
      "6           Crater Lake, CA  \n"
     ]
    }
   ],
   "source": [
    " import pandas as pd #read a csv file\n",
    "ufo = pd.read_csv('http://bit.ly/uforeports') \n",
    "print(\"Overview of UFO data reports: \")\n",
    "print(ufo.head())\n",
    "print()\n",
    "#series\n",
    "print(\"Cityseries(sorted):\")\n",
    "print(ufo.City.sort_values()) \n",
    "print()\n",
    "ufo['Location'] = ufo.City + ', ' + ufo.State\n",
    "print(\"After creating a new 'Location' Series : \") \n",
    "print(ufo.head())\n",
    "print()\n",
    "print(\"Calculate summary statistics : \") \n",
    "print(ufo.describe())\n",
    "print()\n",
    "print(\"Column names of ufo dataframe : \",ufo.columns) \n",
    "print()\n",
    "# rename two of the columns by using the 'rename' method ufo.rename(columns={'Colors Reported':'Colors_Reported', 'Shape Reported':'Shape_Reported'},inplace=True)\n",
    "print(\"Column name of ufo dataframe after renaming two column names : \",ufo.columns)\n",
    "print()\n",
    "# remove multiple columns at once ufo.drop(['City', 'State'], axis=1, inplace=True)\n",
    "print(\"Column name of ufo dataframe after removing two columns(city,state) : \",ufo.columns)\n",
    "print()\n",
    "# remove multiple rows at once (axis=0 refers to  rows) \n",
    "ufo.drop([0, 1], axis=0, inplace=True)\n",
    "print(\"ufo dataframe after deleting first two rows: \") \n",
    "print(ufo.head())\n"
   ]
  },
  {
   "cell_type": "code",
   "execution_count": 21,
   "id": "1f2b343a",
   "metadata": {},
   "outputs": [
    {
     "name": "stdout",
     "output_type": "stream",
     "text": [
      "Dataframe of top-rated IMDb movies: \n"
     ]
    },
    {
     "ename": "NameError",
     "evalue": "name 'movies' is not defined",
     "output_type": "error",
     "traceback": [
      "\u001b[0;31m---------------------------------------------------------------------------\u001b[0m",
      "\u001b[0;31mNameError\u001b[0m                                 Traceback (most recent call last)",
      "Cell \u001b[0;32mIn[21], line 4\u001b[0m\n\u001b[1;32m      2\u001b[0m \u001b[38;5;66;03m# read a dataset of top-rated IMDb movies into a DataFrame movies = pd.read_csv('http://bit.ly/imdbratings')\u001b[39;00m\n\u001b[1;32m      3\u001b[0m \u001b[38;5;28mprint\u001b[39m(\u001b[38;5;124m\"\u001b[39m\u001b[38;5;124mDataframe of top-rated IMDb movies: \u001b[39m\u001b[38;5;124m\"\u001b[39m) \n\u001b[0;32m----> 4\u001b[0m \u001b[38;5;28mprint\u001b[39m(movies\u001b[38;5;241m.\u001b[39mhead())\n\u001b[1;32m      5\u001b[0m \u001b[38;5;28mprint\u001b[39m()\n\u001b[1;32m      6\u001b[0m \u001b[38;5;28mprint\u001b[39m(\u001b[38;5;124m\"\u001b[39m\u001b[38;5;124mDifferent ways to filter rows of a pandas DataFrame by column value: \u001b[39m\u001b[38;5;124m\"\u001b[39m)\n",
      "\u001b[0;31mNameError\u001b[0m: name 'movies' is not defined"
     ]
    }
   ],
   "source": [
    " import pandas as pd\n",
    "# read a dataset of top-rated IMDb movies into a DataFrame movies = pd.read_csv('http://bit.ly/imdbratings')\n",
    "print(\"Dataframe of top-rated IMDb movies: \") \n",
    "print(movies.head())\n",
    "print()\n",
    "print(\"Different ways to filter rows of a pandas DataFrame by column value: \")\n",
    "print(\"Example : Filter rows to only show movies with a duration of atleast 200 minutes\")\n",
    "print(\"1.using for loop\")\n",
    "booleans = []\n",
    " for length in movies.duration:\n",
    "  if length >= 200:\n",
    "   booleans.append(True)\n",
    "  else:\n",
    "   booleans.append(False)\n",
    "is_long = pd.Series(booleans) \n",
    "print(is_long.head())\n",
    "print() \n",
    "print(\"2.broadcasting\")\n",
    "print(movies[movies.duration >= 200]) \n",
    "print()\n",
    "print(\"3.using 'loc' method\") \n",
    "print(movies.loc[movies.duration >= 200])\n"
   ]
  },
  {
   "cell_type": "code",
   "execution_count": 34,
   "id": "6d397c52",
   "metadata": {},
   "outputs": [
    {
     "name": "stdout",
     "output_type": "stream",
     "text": [
      "   1|24|M|technician|85711\n",
      "0       2|53|F|other|94043\n",
      "1      3|23|M|writer|32067\n",
      "2  4|24|M|technician|43537\n",
      "3       5|33|F|other|15213\n",
      "4   6|42|M|executive|98101\n",
      "\n",
      "String methods in pandas: \n",
      "\n",
      "'item_name' series(in uppercase) : \n"
     ]
    },
    {
     "ename": "AttributeError",
     "evalue": "'DataFrame' object has no attribute 'item_name'",
     "output_type": "error",
     "traceback": [
      "\u001b[0;31m---------------------------------------------------------------------------\u001b[0m",
      "\u001b[0;31mAttributeError\u001b[0m                            Traceback (most recent call last)",
      "\u001b[0;32m/tmp/ipykernel_4973/3532137696.py\u001b[0m in \u001b[0;36m?\u001b[0;34m()\u001b[0m\n\u001b[1;32m      4\u001b[0m \u001b[0mprint\u001b[0m\u001b[0;34m(\u001b[0m\u001b[0;34m)\u001b[0m\u001b[0;34m\u001b[0m\u001b[0;34m\u001b[0m\u001b[0m\n\u001b[1;32m      5\u001b[0m \u001b[0mprint\u001b[0m\u001b[0;34m(\u001b[0m\u001b[0;34m\"String methods in pandas: \"\u001b[0m\u001b[0;34m)\u001b[0m\u001b[0;34m\u001b[0m\u001b[0;34m\u001b[0m\u001b[0m\n\u001b[1;32m      6\u001b[0m \u001b[0mprint\u001b[0m\u001b[0;34m(\u001b[0m\u001b[0;34m)\u001b[0m\u001b[0;34m\u001b[0m\u001b[0;34m\u001b[0m\u001b[0m\n\u001b[1;32m      7\u001b[0m \u001b[0mprint\u001b[0m\u001b[0;34m(\u001b[0m\u001b[0;34m\"'item_name' series(in uppercase) : \"\u001b[0m\u001b[0;34m)\u001b[0m\u001b[0;34m\u001b[0m\u001b[0;34m\u001b[0m\u001b[0m\n\u001b[0;32m----> 8\u001b[0;31m \u001b[0mprint\u001b[0m\u001b[0;34m(\u001b[0m\u001b[0morders\u001b[0m\u001b[0;34m.\u001b[0m\u001b[0mitem_name\u001b[0m\u001b[0;34m.\u001b[0m\u001b[0mstr\u001b[0m\u001b[0;34m.\u001b[0m\u001b[0mupper\u001b[0m\u001b[0;34m(\u001b[0m\u001b[0;34m)\u001b[0m\u001b[0;34m.\u001b[0m\u001b[0mhead\u001b[0m\u001b[0;34m(\u001b[0m\u001b[0;34m)\u001b[0m\u001b[0;34m)\u001b[0m\u001b[0;34m\u001b[0m\u001b[0;34m\u001b[0m\u001b[0m\n\u001b[0m\u001b[1;32m      9\u001b[0m \u001b[0mprint\u001b[0m\u001b[0;34m(\u001b[0m\u001b[0;34m)\u001b[0m\u001b[0;34m\u001b[0m\u001b[0;34m\u001b[0m\u001b[0m\n\u001b[1;32m     10\u001b[0m \u001b[0mprint\u001b[0m\u001b[0;34m(\u001b[0m\u001b[0;34m\"Checks for a substring 'Chicken' in the given dataframe: \"\u001b[0m\u001b[0;34m)\u001b[0m\u001b[0;34m\u001b[0m\u001b[0;34m\u001b[0m\u001b[0m\n\u001b[1;32m     11\u001b[0m \u001b[0mprint\u001b[0m\u001b[0;34m(\u001b[0m\u001b[0morders\u001b[0m\u001b[0;34m[\u001b[0m\u001b[0morders\u001b[0m\u001b[0;34m.\u001b[0m\u001b[0mitem_name\u001b[0m\u001b[0;34m.\u001b[0m\u001b[0mstr\u001b[0m\u001b[0;34m.\u001b[0m\u001b[0mcontains\u001b[0m\u001b[0;34m(\u001b[0m\u001b[0;34m'Chicken'\u001b[0m\u001b[0;34m)\u001b[0m\u001b[0;34m]\u001b[0m\u001b[0;34m.\u001b[0m\u001b[0mhead\u001b[0m\u001b[0;34m(\u001b[0m\u001b[0;34m)\u001b[0m\u001b[0;34m)\u001b[0m\u001b[0;34m\u001b[0m\u001b[0;34m\u001b[0m\u001b[0m\n",
      "\u001b[0;32m~/anaconda3/lib/python3.11/site-packages/pandas/core/generic.py\u001b[0m in \u001b[0;36m?\u001b[0;34m(self, name)\u001b[0m\n\u001b[1;32m   5985\u001b[0m             \u001b[0;32mand\u001b[0m \u001b[0mname\u001b[0m \u001b[0;32mnot\u001b[0m \u001b[0;32min\u001b[0m \u001b[0mself\u001b[0m\u001b[0;34m.\u001b[0m\u001b[0m_accessors\u001b[0m\u001b[0;34m\u001b[0m\u001b[0;34m\u001b[0m\u001b[0m\n\u001b[1;32m   5986\u001b[0m             \u001b[0;32mand\u001b[0m \u001b[0mself\u001b[0m\u001b[0;34m.\u001b[0m\u001b[0m_info_axis\u001b[0m\u001b[0;34m.\u001b[0m\u001b[0m_can_hold_identifiers_and_holds_name\u001b[0m\u001b[0;34m(\u001b[0m\u001b[0mname\u001b[0m\u001b[0;34m)\u001b[0m\u001b[0;34m\u001b[0m\u001b[0;34m\u001b[0m\u001b[0m\n\u001b[1;32m   5987\u001b[0m         ):\n\u001b[1;32m   5988\u001b[0m             \u001b[0;32mreturn\u001b[0m \u001b[0mself\u001b[0m\u001b[0;34m[\u001b[0m\u001b[0mname\u001b[0m\u001b[0;34m]\u001b[0m\u001b[0;34m\u001b[0m\u001b[0;34m\u001b[0m\u001b[0m\n\u001b[0;32m-> 5989\u001b[0;31m         \u001b[0;32mreturn\u001b[0m \u001b[0mobject\u001b[0m\u001b[0;34m.\u001b[0m\u001b[0m__getattribute__\u001b[0m\u001b[0;34m(\u001b[0m\u001b[0mself\u001b[0m\u001b[0;34m,\u001b[0m \u001b[0mname\u001b[0m\u001b[0;34m)\u001b[0m\u001b[0;34m\u001b[0m\u001b[0;34m\u001b[0m\u001b[0m\n\u001b[0m",
      "\u001b[0;31mAttributeError\u001b[0m: 'DataFrame' object has no attribute 'item_name'"
     ]
    }
   ],
   "source": [
    " import pandas as pd\n",
    "# read a dataset of Chipotle orders into a DataFrame orders = pd.read_table('http://bit.ly/chiporders') print(\"Dataframe : \")\n",
    "print(orders.head())\n",
    "print()\n",
    "print(\"String methods in pandas: \")\n",
    "print()\n",
    "print(\"'item_name' series(in uppercase) : \") \n",
    "print(orders.item_name.str.upper().head()) \n",
    "print()\n",
    "print(\"Checks for a substring 'Chicken' in the given dataframe: \")\n",
    "print(orders[orders.item_name.str.contains('Chicken')].head())\n",
    "print()\n",
    "# many pandas string methods support regular expressions (regex) print(orders.choice_description.str.replace('[\\[\\]]', '').head()) print()\n",
    "print(\"Examine the data type of each Series: \") \n",
    "print(orders.dtypes)\n",
    "print()\n",
    "print(\"Dataframe after replacing '$' and converting string to float of 'item_price' series: \") \n",
    "print(orders.item_price.str.replace('$', '').astype(float))\n",
    "print()"
   ]
  },
  {
   "cell_type": "code",
   "execution_count": null,
   "id": "91f55bd9",
   "metadata": {},
   "outputs": [],
   "source": []
  },
  {
   "cell_type": "code",
   "execution_count": null,
   "id": "64754cfb",
   "metadata": {},
   "outputs": [],
   "source": []
  },
  {
   "cell_type": "code",
   "execution_count": null,
   "id": "62d37336",
   "metadata": {},
   "outputs": [],
   "source": []
  }
 ],
 "metadata": {
  "kernelspec": {
   "display_name": "Python 3 (ipykernel)",
   "language": "python",
   "name": "python3"
  },
  "language_info": {
   "codemirror_mode": {
    "name": "ipython",
    "version": 3
   },
   "file_extension": ".py",
   "mimetype": "text/x-python",
   "name": "python",
   "nbconvert_exporter": "python",
   "pygments_lexer": "ipython3",
   "version": "3.11.5"
  }
 },
 "nbformat": 4,
 "nbformat_minor": 5
}
