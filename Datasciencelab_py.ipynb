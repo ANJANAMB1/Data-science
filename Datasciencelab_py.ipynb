{
  "nbformat": 4,
  "nbformat_minor": 0,
  "metadata": {
    "colab": {
      "provenance": [],
      "authorship_tag": "ABX9TyNsP1oJwmt/vgCpG4zBvLeV",
      "include_colab_link": true
    },
    "kernelspec": {
      "name": "python3",
      "display_name": "Python 3"
    },
    "language_info": {
      "name": "python"
    }
  },
  "cells": [
    {
      "cell_type": "markdown",
      "metadata": {
        "id": "view-in-github",
        "colab_type": "text"
      },
      "source": [
        "<a href=\"https://colab.research.google.com/github/ANJANAMB1/Data-science/blob/main/Datasciencelab_py.ipynb\" target=\"_parent\"><img src=\"https://colab.research.google.com/assets/colab-badge.svg\" alt=\"Open In Colab\"/></a>"
      ]
    },
    {
      "cell_type": "code",
      "execution_count": 2,
      "metadata": {
        "colab": {
          "base_uri": "https://localhost:8080/"
        },
        "id": "GsK8FmvoBCT5",
        "outputId": "b83251ef-0829-4373-9213-9e4078d39e96"
      },
      "outputs": [
        {
          "output_type": "stream",
          "name": "stdout",
          "text": [
            "Example for broadcasting: \n",
            "v =  [1 2 3]\n",
            "w= [4 5]\n",
            "Outer product of above vectors: \n",
            "[[ 4  5]\n",
            " [ 8 10]\n",
            " [12 15]]\n",
            "x =  [[1 2 3]\n",
            " [4 5 6]]\n",
            "Resultant matrix after adding the vector x to each row of matrix v: \n",
            "[[2 4 6]\n",
            " [5 7 9]]\n",
            "Example for broadcasting fails: \n",
            "Adding the vector x to each column of matrix w will generate an error\n",
            "Solution: Reshape the matrix w then the result will be: \n",
            "[[ 5  6  7]\n",
            " [ 9 10 11]]\n"
          ]
        }
      ],
      "source": [
        "import numpy as np\n",
        "print(\"Example for broadcasting: \")\n",
        "v=np.array([1,2,3])\n",
        "w=np.array([4,5])\n",
        "print(\"v = \",v)\n",
        "print(\"w=\",w)\n",
        "print(\"Outer product of above vectors: \")\n",
        "print(np.reshape(v,(3,1))*w)\n",
        "x=np.array([[1,2,3],[4,5,6]])\n",
        "print(\"x = \",x)\n",
        "print(\"Resultant matrix after adding the vector x to each row of matrix v: \")\n",
        "print(x+v)\n",
        "print(\"Example for broadcasting fails: \")\n",
        "print(\"Adding the vector x to each column of matrix w will generate an error\")\n",
        "print(\"Solution: Reshape the matrix w then the result will be: \")\n",
        "print(x+np.reshape(w,(2,1)))"
      ]
    },
    {
      "cell_type": "code",
      "source": [
        "import numpy as np\n",
        "\n",
        "print(\"Array indexing: slicing\")\n",
        "a1 = np.array([[1, 2, 3, 4], [5, 6, 7, 8], [9, 10, 11, 12]])\n",
        "print(\"a1 =\", a1)\n",
        "\n",
        "b = a1[:2, 1:3]\n",
        "print(\"Subarray consisting of the first two rows and columns 1 and 2:\", b)\n",
        "\n",
        "b = a1[1:2, :]\n",
        "print(\"Subarray consists of the second row:\", b)\n",
        "\n",
        "print(\"Accessing columns:\")\n",
        "c = a1[:, 1:2]\n",
        "print(c, c.shape)\n",
        "\n",
        "print(\"Array integer indexing:\")\n",
        "a2 = np.array([[1, 2], [3, 4], [5, 6]])\n",
        "print(\"a2 =\", a2)\n",
        "\n",
        "print(\"Example of array integer indexing:\", a2[[0, 1, 2], [0, 1, 0]])\n",
        "print(a2[[0, 0], [1, 1]])\n",
        "print(np.array([a2[0, 1], a2[0, 1]]))\n",
        "\n",
        "a3 = np.array([[1, 2, 3], [4, 5, 6], [7, 8, 9], [10, 11, 12]])\n",
        "print(\"a3 =\", a3)\n",
        "\n",
        "# Create an array of indices\n",
        "b = np.array([0, 2, 0, 1])\n",
        "print(\"b =\", b)\n",
        "\n",
        "print(\"Select one element from each row of a using the indices in b:\")\n",
        "print(\"a3 =\", a3[np.arange(4), b])\n",
        "\n",
        "a3[np.arange(4), b] += 10\n",
        "print(\"a3 =\", a3)\n",
        "\n",
        "print(\"Boolean array indexing:\")\n",
        "a = np.array([[1, 2], [3, 4], [5, 6]])\n",
        "print(\"a =\", a)\n",
        "\n",
        "bool_idx = (a > 2)\n",
        "print(\"Elements greater than 2:\", a[bool_idx])"
      ],
      "metadata": {
        "colab": {
          "base_uri": "https://localhost:8080/"
        },
        "id": "LBfeLdanHOg7",
        "outputId": "83d41b8c-ff73-456e-e957-138dc57cb59c"
      },
      "execution_count": 3,
      "outputs": [
        {
          "output_type": "stream",
          "name": "stdout",
          "text": [
            "Array indexing: slicing\n",
            "a1 = [[ 1  2  3  4]\n",
            " [ 5  6  7  8]\n",
            " [ 9 10 11 12]]\n",
            "Subarray consisting of the first two rows and columns 1 and 2: [[2 3]\n",
            " [6 7]]\n",
            "Subarray consists of the second row: [[5 6 7 8]]\n",
            "Accessing columns:\n",
            "[[ 2]\n",
            " [ 6]\n",
            " [10]] (3, 1)\n",
            "Array integer indexing:\n",
            "a2 = [[1 2]\n",
            " [3 4]\n",
            " [5 6]]\n",
            "Example of array integer indexing: [1 4 5]\n",
            "[2 2]\n",
            "[2 2]\n",
            "a3 = [[ 1  2  3]\n",
            " [ 4  5  6]\n",
            " [ 7  8  9]\n",
            " [10 11 12]]\n",
            "b = [0 2 0 1]\n",
            "Select one element from each row of a using the indices in b:\n",
            "a3 = [ 1  6  7 11]\n",
            "a3 = [[11  2  3]\n",
            " [ 4  5 16]\n",
            " [17  8  9]\n",
            " [10 21 12]]\n",
            "Boolean array indexing:\n",
            "a = [[1 2]\n",
            " [3 4]\n",
            " [5 6]]\n",
            "Elements greater than 2: [3 4 5 6]\n"
          ]
        }
      ]
    },
    {
      "cell_type": "code",
      "source": [],
      "metadata": {
        "id": "pVQCq8c6HQkx"
      },
      "execution_count": null,
      "outputs": []
    }
  ]
}